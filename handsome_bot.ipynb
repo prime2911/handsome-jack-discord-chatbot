{
  "nbformat": 4,
  "nbformat_minor": 0,
  "metadata": {
    "colab": {
      "name": "handsome_bot.ipynb",
      "provenance": [],
      "authorship_tag": "ABX9TyNnNsZlN8dIX9F6xp2uhf83",
      "include_colab_link": true
    },
    "kernelspec": {
      "name": "python3",
      "display_name": "Python 3"
    },
    "language_info": {
      "name": "python"
    }
  },
  "cells": [
    {
      "cell_type": "markdown",
      "metadata": {
        "id": "view-in-github",
        "colab_type": "text"
      },
      "source": [
        "<a href=\"https://colab.research.google.com/github/prime2911/handsome-jack-discord-chatbot/blob/main/handsome_bot.ipynb\" target=\"_parent\"><img src=\"https://colab.research.google.com/assets/colab-badge.svg\" alt=\"Open In Colab\"/></a>"
      ]
    },
    {
      "cell_type": "code",
      "execution_count": 1,
      "metadata": {
        "id": "KSG9BJSHKCo-",
        "colab": {
          "base_uri": "https://localhost:8080/"
        },
        "outputId": "29c73915-cc57-4931-e735-3a6c6a7ddc76"
      },
      "outputs": [
        {
          "output_type": "stream",
          "name": "stdout",
          "text": [
            "Mounted at /content/drive\n"
          ]
        }
      ],
      "source": [
        "# Links the Colab notebook with your Google Drive\n",
        "\n",
        "from google.colab import drive\n",
        "\n",
        "ROOT = \"/content/drive\"\n",
        "\n",
        "drive.mount(ROOT)"
      ]
    },
    {
      "cell_type": "code",
      "source": [
        "# Clone github repository setup\n",
        "# import join used to join ROOT path and MY_GOOGLE_DRIVE_PATH\n",
        "from os.path import join  \n",
        "\n",
        "# path to your project on Google Drive\n",
        "MY_GOOGLE_DRIVE_PATH = \"MyDrive/Colab Notebooks/Handsome Jack Discord Chatbot\"\n",
        "\n",
        "# replace with your Github username\n",
        "GIT_USERNAME = \"prime2911\"\n",
        "\n",
        "# definitely replace with your\n",
        "GIT_TOKEN = \"{YOUR_GITHUB_TOKEN}\"\n",
        "\n",
        "# Replace with your github repository in this case we want\n",
        "# to clone deep-learning-v2-pytorch repository\n",
        "GIT_REPOSITORY = \"handsome-jack-discord-chatbot\"\n",
        "\n",
        "PROJECT_PATH = join(ROOT, MY_GOOGLE_DRIVE_PATH)\n",
        "\n",
        "# It's good to print out the value if you are not sure\n",
        "print(\"PROJECT_PATH: \", PROJECT_PATH)\n",
        "\n",
        "# In case we haven't created the folder already; we will create a folder in the project path\n",
        "!mkdir \"{PROJECT_PATH}\"\n",
        "\n",
        "#GIT_PATH = \"https://{GIT_TOKEN}@github.com/{GIT_USERNAME}/{GIT_REPOSITORY}.git\" this return 400 Bad Request for me\n",
        "GIT_PATH = \"https://\" + GIT_TOKEN + \"@github.com/\" + GIT_USERNAME + \"/\" + GIT_REPOSITORY + \".git\"\n",
        "print(\"GIT_PATH: \", GIT_PATH)"
      ],
      "metadata": {
        "id": "y_ieWBW3Oxdx"
      },
      "execution_count": null,
      "outputs": []
    }
  ]
}